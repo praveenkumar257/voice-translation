{
 "cells": [
  {
   "cell_type": "code",
   "execution_count": 1,
   "id": "43fc88ad-4f9f-44da-94ee-ce453f3937f0",
   "metadata": {},
   "outputs": [
    {
     "name": "stdout",
     "output_type": "stream",
     "text": [
      "Requirement already satisfied: googletrans==4.0.0-rc1 in c:\\users\\admin\\anaconda3\\lib\\site-packages (4.0.0rc1)\n",
      "Requirement already satisfied: httpx==0.13.3 in c:\\users\\admin\\anaconda3\\lib\\site-packages (from googletrans==4.0.0-rc1) (0.13.3)\n",
      "Requirement already satisfied: certifi in c:\\users\\admin\\anaconda3\\lib\\site-packages (from httpx==0.13.3->googletrans==4.0.0-rc1) (2024.8.30)\n",
      "Requirement already satisfied: hstspreload in c:\\users\\admin\\anaconda3\\lib\\site-packages (from httpx==0.13.3->googletrans==4.0.0-rc1) (2025.1.1)\n",
      "Requirement already satisfied: sniffio in c:\\users\\admin\\anaconda3\\lib\\site-packages (from httpx==0.13.3->googletrans==4.0.0-rc1) (1.3.0)\n",
      "Requirement already satisfied: chardet==3.* in c:\\users\\admin\\anaconda3\\lib\\site-packages (from httpx==0.13.3->googletrans==4.0.0-rc1) (3.0.4)\n",
      "Requirement already satisfied: idna==2.* in c:\\users\\admin\\anaconda3\\lib\\site-packages (from httpx==0.13.3->googletrans==4.0.0-rc1) (2.10)\n",
      "Requirement already satisfied: rfc3986<2,>=1.3 in c:\\users\\admin\\anaconda3\\lib\\site-packages (from httpx==0.13.3->googletrans==4.0.0-rc1) (1.5.0)\n",
      "Requirement already satisfied: httpcore==0.9.* in c:\\users\\admin\\anaconda3\\lib\\site-packages (from httpx==0.13.3->googletrans==4.0.0-rc1) (0.9.1)\n",
      "Requirement already satisfied: h11<0.10,>=0.8 in c:\\users\\admin\\anaconda3\\lib\\site-packages (from httpcore==0.9.*->httpx==0.13.3->googletrans==4.0.0-rc1) (0.9.0)\n",
      "Requirement already satisfied: h2==3.* in c:\\users\\admin\\anaconda3\\lib\\site-packages (from httpcore==0.9.*->httpx==0.13.3->googletrans==4.0.0-rc1) (3.2.0)\n",
      "Requirement already satisfied: hyperframe<6,>=5.2.0 in c:\\users\\admin\\anaconda3\\lib\\site-packages (from h2==3.*->httpcore==0.9.*->httpx==0.13.3->googletrans==4.0.0-rc1) (5.2.0)\n",
      "Requirement already satisfied: hpack<4,>=3.0 in c:\\users\\admin\\anaconda3\\lib\\site-packages (from h2==3.*->httpcore==0.9.*->httpx==0.13.3->googletrans==4.0.0-rc1) (3.0.0)\n",
      "Note: you may need to restart the kernel to use updated packages.\n"
     ]
    }
   ],
   "source": [
    "pip install googletrans==4.0.0-rc1\n"
   ]
  },
  {
   "cell_type": "code",
   "execution_count": 2,
   "id": "73674e9e-5a90-46d3-b6bf-2bb9a92561d3",
   "metadata": {},
   "outputs": [
    {
     "name": "stdout",
     "output_type": "stream",
     "text": [
      "Requirement already satisfied: SpeechRecognition in c:\\users\\admin\\anaconda3\\lib\\site-packages (3.14.1)\n",
      "Requirement already satisfied: typing-extensions in c:\\users\\admin\\anaconda3\\lib\\site-packages (from SpeechRecognition) (4.11.0)\n",
      "Note: you may need to restart the kernel to use updated packages.\n"
     ]
    }
   ],
   "source": [
    "pip install SpeechRecognition\n"
   ]
  },
  {
   "cell_type": "code",
   "execution_count": 7,
   "id": "31c98edf-f3ea-4505-a576-92f69fa32ae3",
   "metadata": {},
   "outputs": [
    {
     "name": "stdout",
     "output_type": "stream",
     "text": [
      "Requirement already satisfied: gTTS in c:\\users\\admin\\anaconda3\\lib\\site-packages (2.5.4)\n",
      "Requirement already satisfied: requests<3,>=2.27 in c:\\users\\admin\\anaconda3\\lib\\site-packages (from gTTS) (2.32.3)\n",
      "Requirement already satisfied: click<8.2,>=7.1 in c:\\users\\admin\\anaconda3\\lib\\site-packages (from gTTS) (8.1.7)\n",
      "Requirement already satisfied: colorama in c:\\users\\admin\\anaconda3\\lib\\site-packages (from click<8.2,>=7.1->gTTS) (0.4.6)\n",
      "Requirement already satisfied: charset-normalizer<4,>=2 in c:\\users\\admin\\anaconda3\\lib\\site-packages (from requests<3,>=2.27->gTTS) (3.3.2)\n",
      "Requirement already satisfied: idna<4,>=2.5 in c:\\users\\admin\\anaconda3\\lib\\site-packages (from requests<3,>=2.27->gTTS) (2.10)\n",
      "Requirement already satisfied: urllib3<3,>=1.21.1 in c:\\users\\admin\\anaconda3\\lib\\site-packages (from requests<3,>=2.27->gTTS) (2.2.3)\n",
      "Requirement already satisfied: certifi>=2017.4.17 in c:\\users\\admin\\anaconda3\\lib\\site-packages (from requests<3,>=2.27->gTTS) (2024.8.30)\n",
      "Note: you may need to restart the kernel to use updated packages.\n"
     ]
    }
   ],
   "source": [
    "pip install gTTS\n"
   ]
  },
  {
   "cell_type": "code",
   "execution_count": 8,
   "id": "22b6d8c0-df01-46e3-b175-ba7e20749973",
   "metadata": {},
   "outputs": [
    {
     "name": "stdout",
     "output_type": "stream",
     "text": [
      "Collecting playsound\n",
      "  Using cached playsound-1.3.0-py3-none-any.whl\n",
      "Installing collected packages: playsound\n",
      "Successfully installed playsound-1.3.0\n"
     ]
    }
   ],
   "source": [
    "!pip install playsound\n"
   ]
  },
  {
   "cell_type": "code",
   "execution_count": null,
   "id": "142e53be-95ef-4375-88e8-674b8fc0bf4a",
   "metadata": {},
   "outputs": [
    {
     "name": "stdout",
     "output_type": "stream",
     "text": [
      "Listening for speech...\n",
      "Adjusting for ambient noise... Please wait.\n",
      "No speech detected. Microphone off.\n",
      "Ambient noise adjustment complete. Listening...\n",
      "Waiting for speech...\n",
      "Silence detected. Microphone off temporarily.\n",
      "Waiting for speech...\n",
      "Processing speech...\n",
      "You said: hello I am Praveen\n",
      "Translated text: வணக்கம் நான் பிரவீன்\n",
      "Adjusting for ambient noise... Please wait.\n",
      "Ambient noise adjustment complete. Listening...\n",
      "Waiting for speech...\n",
      "Processing speech...\n",
      "Could not understand audio. Waiting for speech...\n",
      "Waiting for speech...\n",
      "Processing speech...\n",
      "Could not understand audio. Waiting for speech...\n",
      "Waiting for speech...\n",
      "Processing speech...\n",
      "Could not understand audio. Waiting for speech...\n",
      "Waiting for speech...\n",
      "Processing speech...\n",
      "Could not understand audio. Waiting for speech...\n",
      "Waiting for speech...\n",
      "Processing speech...\n",
      "Could not understand audio. Waiting for speech...\n",
      "Waiting for speech...\n"
     ]
    }
   ],
   "source": [
    "import speech_recognition as sr\n",
    "from googletrans import Translator\n",
    "from gtts import gTTS\n",
    "import playsound\n",
    "import os\n",
    "import time\n",
    "import threading\n",
    "\n",
    "class SpeechTranslator:\n",
    "    def __init__(self):\n",
    "        self.recognizer = sr.Recognizer()\n",
    "        self.translator = Translator()\n",
    "        self.is_listening = True\n",
    "\n",
    "    def recognize_speech_from_mic(self):\n",
    "        \"\"\"Recognize speech from the microphone and return as text.\"\"\"\n",
    "        mic = sr.Microphone()\n",
    "\n",
    "        with mic as source:\n",
    "            print(\"Adjusting for ambient noise... Please wait.\")\n",
    "            # Adjust for ambient noise to prevent false starts\n",
    "            self.recognizer.adjust_for_ambient_noise(source, duration=1)\n",
    "            print(\"Ambient noise adjustment complete. Listening...\")\n",
    "\n",
    "        while self.is_listening:\n",
    "            with mic as source:\n",
    "                # Dynamically detect sound energy\n",
    "                self.recognizer.dynamic_energy_threshold = True\n",
    "                try:\n",
    "                    print(\"Waiting for speech...\")\n",
    "                    audio = self.recognizer.listen(source, timeout=5, phrase_time_limit=5)\n",
    "                    print(\"Processing speech...\")\n",
    "                    text = self.recognizer.recognize_google(audio)\n",
    "                    print(f\"You said: {text}\")\n",
    "                    return text\n",
    "                except sr.UnknownValueError:\n",
    "                    print(\"Could not understand audio. Waiting for speech...\")\n",
    "                except sr.WaitTimeoutError:\n",
    "                    print(\"Silence detected. Microphone off temporarily.\")\n",
    "                    time.sleep(0.5)  # Pause briefly before retrying\n",
    "                except sr.RequestError as e:\n",
    "                    print(f\"Could not request results; {e}\")\n",
    "                    return None\n",
    "\n",
    "    def translate_text(self, text, target_language='ta'):\n",
    "        \"\"\"Translate text to the target language.\"\"\"\n",
    "        translated = self.translator.translate(text, dest=target_language)\n",
    "        print(f\"Translated text: {translated.text}\")\n",
    "        return translated.text\n",
    "\n",
    "    def text_to_speech(self, text, lang='ta'):\n",
    "        \"\"\"Convert text to speech and play it.\"\"\"\n",
    "        tts = gTTS(text=text, lang=lang)\n",
    "        audio_file = \"translated_audio.mp3\"\n",
    "        tts.save(audio_file)\n",
    "        playsound.playsound(audio_file)\n",
    "        os.remove(audio_file)\n",
    "\n",
    "    def listen_and_translate(self):\n",
    "        \"\"\"Continuously listen for speech, translate it, and convert to speech.\"\"\"\n",
    "        while self.is_listening:\n",
    "            user_text = self.recognize_speech_from_mic()\n",
    "            if user_text is not None:\n",
    "                translated_text = self.translate_text(user_text, target_language='ta')\n",
    "                self.text_to_speech(translated_text, lang='ta')\n",
    "\n",
    "    def start(self):\n",
    "        \"\"\"Start the listening thread.\"\"\"\n",
    "        listener_thread = threading.Thread(target=self.listen_and_translate)\n",
    "        listener_thread.start()\n",
    "\n",
    "    def stop(self):\n",
    "        \"\"\"Stop the listening process.\"\"\"\n",
    "        self.is_listening = False\n",
    "\n",
    "if __name__ == \"__main__\":\n",
    "    translator = SpeechTranslator()\n",
    "    translator.start()\n",
    "\n",
    "    try:\n",
    "        while True:\n",
    "            time.sleep(1)  # Keep the main thread alive\n",
    "    except KeyboardInterrupt:\n",
    "        translator.stop()\n",
    "        print(\"Stopping the translator.\")\n"
   ]
  },
  {
   "cell_type": "code",
   "execution_count": null,
   "id": "3150275c-6828-4bda-a9eb-111b462e7798",
   "metadata": {},
   "outputs": [],
   "source": []
  }
 ],
 "metadata": {
  "kernelspec": {
   "display_name": "Python 3 (ipykernel)",
   "language": "python",
   "name": "python3"
  },
  "language_info": {
   "codemirror_mode": {
    "name": "ipython",
    "version": 3
   },
   "file_extension": ".py",
   "mimetype": "text/x-python",
   "name": "python",
   "nbconvert_exporter": "python",
   "pygments_lexer": "ipython3",
   "version": "3.12.7"
  }
 },
 "nbformat": 4,
 "nbformat_minor": 5
}
